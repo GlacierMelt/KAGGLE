{
 "cells": [
  {
   "cell_type": "code",
   "execution_count": 5,
   "metadata": {},
   "outputs": [
    {
     "name": "stdout",
     "output_type": "stream",
     "text": [
      "['test', 'train', 'train.csv']\n"
     ]
    }
   ],
   "source": [
    "import numpy as np \n",
    "import pandas as pd\n",
    "import os\n",
    "print(os.listdir(\"./data\"))"
   ]
  },
  {
   "cell_type": "code",
   "execution_count": 6,
   "metadata": {},
   "outputs": [
    {
     "data": {
      "text/plain": [
       "1"
      ]
     },
     "execution_count": 6,
     "metadata": {},
     "output_type": "execute_result"
    }
   ],
   "source": [
    "import shutil \n",
    "from tqdm import tqdm\n",
    "data  = pd.read_csv('./data/train.csv')\n",
    "data.iloc[1,1]"
   ]
  },
  {
   "cell_type": "code",
   "execution_count": 21,
   "metadata": {},
   "outputs": [],
   "source": [
    "train_dir = 'TRAIN'\n",
    "for class_name in ['0', '1']:\n",
    "    os.makedirs(os.path.join(train_dir, class_name), exist_ok=True)\n",
    "    \n",
    "for class_name in ['0', '1']:\n",
    "    for idx in range(len(data)):\n",
    "        file_name = data.iloc[idx, 0]\n",
    "        class_n = data.iloc[idx, 1].astype('str')\n",
    "        if class_n == class_name:\n",
    "#             os.symlink('./data/train/'+file_name, train_dir+'/'+class_name+'/'+file_name)\n",
    "            shutil.copy(os.path.join('./data/train', file_name), \n",
    "                        os.path.join(train_dir, class_name, file_name ))\n"
   ]
  }
 ],
 "metadata": {
  "kernelspec": {
   "display_name": "Python [conda env:CV-ND]",
   "language": "python",
   "name": "conda-env-CV-ND-py"
  },
  "language_info": {
   "codemirror_mode": {
    "name": "ipython",
    "version": 3
   },
   "file_extension": ".py",
   "mimetype": "text/x-python",
   "name": "python",
   "nbconvert_exporter": "python",
   "pygments_lexer": "ipython3",
   "version": "3.7.3"
  }
 },
 "nbformat": 4,
 "nbformat_minor": 2
}
